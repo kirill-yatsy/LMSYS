{
 "cells": [
  {
   "cell_type": "code",
   "execution_count": 1,
   "metadata": {
    "metadata": {}
   },
   "outputs": [],
   "source": [
    "import pandas as pd"
   ]
  },
  {
   "cell_type": "code",
   "execution_count": 2,
   "metadata": {
    "metadata": {}
   },
   "outputs": [],
   "source": [
    "label_to_int = {\n",
    "    \"winner_model_a\": 0,\n",
    "    \"winner_model_b\": 1,\n",
    "    \"tie\": 2\n",
    "}"
   ]
  },
  {
   "cell_type": "code",
   "execution_count": 10,
   "metadata": {
    "metadata": {}
   },
   "outputs": [
    {
     "name": "stdout",
     "output_type": "stream",
     "text": [
      "Index(['id', 'model_a', 'model_b', 'prompt', 'response_a', 'response_b',\n",
      "       'winner_model_a', 'winner_model_b', 'winner_tie'],\n",
      "      dtype='object')\n"
     ]
    }
   ],
   "source": [
    "df = pd.read_csv(\"../data/train.csv\")\n",
    "print(df.columns)\n",
    "df[\"left\"] = df.apply(lambda row: f\"Prompt: {row[\"prompt\"]}\\n\\nResponse: {row[\"response_a\"][0]}\", axis=1)\n",
    "df[\"right\"] = df.apply(lambda row: f\"Prompt: {row[\"prompt\"]}\\n\\nResponse: {row[\"response_b\"][0]}\", axis=1)\n",
    "\n",
    "\n",
    "df[\"winner\"] = df.apply(\n",
    "        lambda row: \"winner_model_a\" if row[\"winner_model_a\"] == 1 else \"winner_model_b\" if row[\"winner_model_b\"] == 1 else \"tie\",\n",
    "        axis=1\n",
    "    )\n",
    "\n",
    "df[\"y\"] = df[\"winner\"].map(label_to_int)\n",
    "df = df[[\"left\", \"right\", \"y\"]]"
   ]
  },
  {
   "cell_type": "code",
   "execution_count": 11,
   "metadata": {
    "metadata": {}
   },
   "outputs": [
    {
     "data": {
      "text/html": [
       "<div>\n",
       "<style scoped>\n",
       "    .dataframe tbody tr th:only-of-type {\n",
       "        vertical-align: middle;\n",
       "    }\n",
       "\n",
       "    .dataframe tbody tr th {\n",
       "        vertical-align: top;\n",
       "    }\n",
       "\n",
       "    .dataframe thead th {\n",
       "        text-align: right;\n",
       "    }\n",
       "</style>\n",
       "<table border=\"1\" class=\"dataframe\">\n",
       "  <thead>\n",
       "    <tr style=\"text-align: right;\">\n",
       "      <th></th>\n",
       "      <th>left</th>\n",
       "      <th>right</th>\n",
       "      <th>y</th>\n",
       "    </tr>\n",
       "  </thead>\n",
       "  <tbody>\n",
       "    <tr>\n",
       "      <th>0</th>\n",
       "      <td>Prompt: [\"Is it morally right to try to have a...</td>\n",
       "      <td>Prompt: [\"Is it morally right to try to have a...</td>\n",
       "      <td>0</td>\n",
       "    </tr>\n",
       "    <tr>\n",
       "      <th>1</th>\n",
       "      <td>Prompt: [\"What is the difference between marri...</td>\n",
       "      <td>Prompt: [\"What is the difference between marri...</td>\n",
       "      <td>1</td>\n",
       "    </tr>\n",
       "    <tr>\n",
       "      <th>2</th>\n",
       "      <td>Prompt: [\"explain function calling. how would ...</td>\n",
       "      <td>Prompt: [\"explain function calling. how would ...</td>\n",
       "      <td>2</td>\n",
       "    </tr>\n",
       "    <tr>\n",
       "      <th>3</th>\n",
       "      <td>Prompt: [\"How can I create a test set for a ve...</td>\n",
       "      <td>Prompt: [\"How can I create a test set for a ve...</td>\n",
       "      <td>0</td>\n",
       "    </tr>\n",
       "    <tr>\n",
       "      <th>4</th>\n",
       "      <td>Prompt: [\"What is the best way to travel from ...</td>\n",
       "      <td>Prompt: [\"What is the best way to travel from ...</td>\n",
       "      <td>1</td>\n",
       "    </tr>\n",
       "    <tr>\n",
       "      <th>...</th>\n",
       "      <td>...</td>\n",
       "      <td>...</td>\n",
       "      <td>...</td>\n",
       "    </tr>\n",
       "    <tr>\n",
       "      <th>57472</th>\n",
       "      <td>Prompt: [\"A simple mnemonic for \\u03c0:\\n\\\"How...</td>\n",
       "      <td>Prompt: [\"A simple mnemonic for \\u03c0:\\n\\\"How...</td>\n",
       "      <td>0</td>\n",
       "    </tr>\n",
       "    <tr>\n",
       "      <th>57473</th>\n",
       "      <td>Prompt: [\"In python, implement a naive Bayes w...</td>\n",
       "      <td>Prompt: [\"In python, implement a naive Bayes w...</td>\n",
       "      <td>0</td>\n",
       "    </tr>\n",
       "    <tr>\n",
       "      <th>57474</th>\n",
       "      <td>Prompt: [\"is it unethical to work on building ...</td>\n",
       "      <td>Prompt: [\"is it unethical to work on building ...</td>\n",
       "      <td>0</td>\n",
       "    </tr>\n",
       "    <tr>\n",
       "      <th>57475</th>\n",
       "      <td>Prompt: [\"If a bait contains 0,0025% bromadiol...</td>\n",
       "      <td>Prompt: [\"If a bait contains 0,0025% bromadiol...</td>\n",
       "      <td>1</td>\n",
       "    </tr>\n",
       "    <tr>\n",
       "      <th>57476</th>\n",
       "      <td>Prompt: [\"three kids eat three apples in three...</td>\n",
       "      <td>Prompt: [\"three kids eat three apples in three...</td>\n",
       "      <td>0</td>\n",
       "    </tr>\n",
       "  </tbody>\n",
       "</table>\n",
       "<p>57477 rows × 3 columns</p>\n",
       "</div>"
      ],
      "text/plain": [
       "                                                    left  \\\n",
       "0      Prompt: [\"Is it morally right to try to have a...   \n",
       "1      Prompt: [\"What is the difference between marri...   \n",
       "2      Prompt: [\"explain function calling. how would ...   \n",
       "3      Prompt: [\"How can I create a test set for a ve...   \n",
       "4      Prompt: [\"What is the best way to travel from ...   \n",
       "...                                                  ...   \n",
       "57472  Prompt: [\"A simple mnemonic for \\u03c0:\\n\\\"How...   \n",
       "57473  Prompt: [\"In python, implement a naive Bayes w...   \n",
       "57474  Prompt: [\"is it unethical to work on building ...   \n",
       "57475  Prompt: [\"If a bait contains 0,0025% bromadiol...   \n",
       "57476  Prompt: [\"three kids eat three apples in three...   \n",
       "\n",
       "                                                   right  y  \n",
       "0      Prompt: [\"Is it morally right to try to have a...  0  \n",
       "1      Prompt: [\"What is the difference between marri...  1  \n",
       "2      Prompt: [\"explain function calling. how would ...  2  \n",
       "3      Prompt: [\"How can I create a test set for a ve...  0  \n",
       "4      Prompt: [\"What is the best way to travel from ...  1  \n",
       "...                                                  ... ..  \n",
       "57472  Prompt: [\"A simple mnemonic for \\u03c0:\\n\\\"How...  0  \n",
       "57473  Prompt: [\"In python, implement a naive Bayes w...  0  \n",
       "57474  Prompt: [\"is it unethical to work on building ...  0  \n",
       "57475  Prompt: [\"If a bait contains 0,0025% bromadiol...  1  \n",
       "57476  Prompt: [\"three kids eat three apples in three...  0  \n",
       "\n",
       "[57477 rows x 3 columns]"
      ]
     },
     "execution_count": 11,
     "metadata": {},
     "output_type": "execute_result"
    }
   ],
   "source": [
    "df"
   ]
  }
 ],
 "metadata": {
  "kernelspec": {
   "display_name": "Python 3",
   "language": "python",
   "name": "python3"
  },
  "language_info": {
   "codemirror_mode": {
    "name": "ipython",
    "version": 3
   },
   "file_extension": ".py",
   "mimetype": "text/x-python",
   "name": "python",
   "nbconvert_exporter": "python",
   "pygments_lexer": "ipython3",
   "version": "3.12.2"
  }
 },
 "nbformat": 4,
 "nbformat_minor": 2
}
